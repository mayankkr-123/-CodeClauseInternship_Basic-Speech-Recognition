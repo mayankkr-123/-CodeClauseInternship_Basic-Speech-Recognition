{
  "nbformat": 4,
  "nbformat_minor": 0,
  "metadata": {
    "colab": {
      "provenance": [],
      "toc_visible": true,
      "authorship_tag": "ABX9TyMV12+Sbo4NsQYcXEJxTOFM",
      "include_colab_link": true
    },
    "kernelspec": {
      "name": "python3",
      "display_name": "Python 3"
    },
    "language_info": {
      "name": "python"
    }
  },
  "cells": [
    {
      "cell_type": "markdown",
      "metadata": {
        "id": "view-in-github",
        "colab_type": "text"
      },
      "source": [
        "<a href=\"https://colab.research.google.com/github/mayankkr-123/-CodeClauseInternship_Basic-Speech-Recognition/blob/main/Untitled6.ipynb\" target=\"_parent\"><img src=\"https://colab.research.google.com/assets/colab-badge.svg\" alt=\"Open In Colab\"/></a>"
      ]
    },
    {
      "cell_type": "code",
      "source": [
        "!pip install SpeechRecognition\n",
        "!pip install pydub\n",
        "!pip install langdetect\n",
        "!pip install googletrans==4.0.0-rc1\n"
      ],
      "metadata": {
        "id": "1zAVay84T4Pi"
      },
      "execution_count": null,
      "outputs": []
    },
    {
      "cell_type": "code",
      "source": [
        "\n",
        "\n",
        "from google.colab import files\n",
        "import speech_recognition as sr\n",
        "import subprocess\n",
        "from googletrans import Translator\n",
        "\n",
        "# Function to convert any audio format to WAV\n",
        "def convert_to_wav(input_audio, output_file):\n",
        "    try:\n",
        "        subprocess.run(['ffmpeg', '-i', input_audio, '-f', 'wav', output_file])\n",
        "        return output_file\n",
        "    except Exception as e:\n",
        "        print(\"Error:\", e)\n",
        "        return None\n",
        "\n",
        "# Function to recognize speech from an audio file\n",
        "def recognize_speech(audio_file):\n",
        "    recognizer = sr.Recognizer()\n",
        "    with sr.AudioFile(audio_file) as source:\n",
        "        audio_data = recognizer.record(source)\n",
        "    try:\n",
        "        recognized_text = recognizer.recognize_google(audio_data)\n",
        "        return recognized_text\n",
        "    except sr.UnknownValueError:\n",
        "        return \"Speech recognition could not understand the audio\"\n",
        "    except sr.RequestError as e:\n",
        "        return f\"Could not request results from Google Speech Recognition service: {e}\"\n",
        "\n",
        "# Function to translate text from Hindi to English\n",
        "def translate_text(text):\n",
        "    translator = Translator()\n",
        "    translated_text = translator.translate(text, src='hi', dest='en')\n",
        "    return translated_text.text\n",
        "\n",
        "# Prompt the user to upload the file\n",
        "print(\"Please upload the audio file:\")\n",
        "uploaded = files.upload()\n",
        "\n",
        "# Get the file name of the uploaded file\n",
        "file_name = list(uploaded.keys())[0]\n",
        "\n",
        "# Convert audio file to WAV format\n",
        "output_file = file_name.split('.')[0] + '.wav'\n",
        "converted_file = convert_to_wav(file_name, output_file)\n",
        "\n",
        "if converted_file:\n",
        "    # Perform speech recognition on the converted audio file\n",
        "    recognized_text = recognize_speech(converted_file)\n",
        "    print(\"Recognized text:\", recognized_text)\n",
        "\n",
        "    # Translate recognized text if it's in Hindi\n",
        "    if recognized_text and recognized_text != \"Speech recognition could not understand the audio\":\n",
        "        if 'hi' in Translator().detect(recognized_text).lang:\n",
        "            translated_text = translate_text(recognized_text)\n",
        "            print(\"Translated text:\", translated_text)\n",
        "        else:\n",
        "            print(\"Recognized text is already in English:\", recognized_text)\n",
        "    else:\n",
        "        print(\"No text to translate\")\n",
        "else:\n",
        "    print(\"Failed to convert audio to WAV format\")\n"
      ],
      "metadata": {
        "id": "VROaNk0eURsG"
      },
      "execution_count": null,
      "outputs": []
    }
  ]
}